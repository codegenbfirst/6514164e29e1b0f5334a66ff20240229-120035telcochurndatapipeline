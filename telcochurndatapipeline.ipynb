{
 "cells": [
  {
   "cell_type": "markdown",
   "id": "f303b70d",
   "metadata": {},
   "source": [
    "***GENERATED CODE FOR telcochurndatapipeline PIPELINE.***"
   ]
  },
  {
   "cell_type": "markdown",
   "id": "117c6ae9",
   "metadata": {},
   "source": [
    "***DON'T EDIT THIS CODE.***"
   ]
  },
  {
   "cell_type": "markdown",
   "id": "4cb39499",
   "metadata": {},
   "source": [
    "***CONNECTOR FUNCTIONS TO READ DATA.***"
   ]
  },
  {
   "cell_type": "code",
   "execution_count": null,
   "id": "1c2392c6",
   "metadata": {},
   "outputs": [],
   "source": [
    "import os\n",
    "import datetime\n",
    "import logging\n",
    "import warnings\n",
    "warnings.filterwarnings('ignore')\n",
    "logging.basicConfig(format='%(levelname)s:%(message)s', level=logging.INFO)\n",
    "\n",
    "\n",
    "class HDFSConnector:\n",
    "\n",
    "    def fetch(spark, config):\n",
    "        ################### INPUT HADOOP HOST PORT TO CONNECT WITH ###############################\n",
    "        hdfs_server = str(os.environ['HDFS_SERVER'])\n",
    "        hdfs_port = int(os.environ['HDFS_PORT'])\n",
    "        df = spark.read.options(header='true', inferschema='true').csv(\n",
    "            f\"hdfs://{hdfs_server}:{hdfs_port}{eval(config)['url']}\", header='true')\n",
    "        display(df.limit(2).toPandas())\n",
    "        return df\n",
    "\n",
    "    def put(df, spark, config):\n",
    "        return df.write.format('csv').options(header='true' if eval(config)[\"is_header\"] == \"Use Header Line\" else 'false',\n",
    "                                              delimiter=eval(config)[\"delimiter\"]).save((\"%s %s\") % (datetime.datetime.now().strftime(\"%Y-%m-%d %H.%M.%S\")+\"_\", eval(config)['url']))\n"
   ]
  },
  {
   "cell_type": "markdown",
   "id": "72a09355",
   "metadata": {},
   "source": [
    "***OPERATION FUNCTIONS***"
   ]
  },
  {
   "cell_type": "code",
   "execution_count": null,
   "id": "2a3945cf",
   "metadata": {},
   "outputs": [],
   "source": [
    "import pyspark\n",
    "from dask.dataframe import from_pandas\n",
    "import json\n",
    "\n",
    "\n",
    "def aggregation(df, functionsData, applyOn, additionalFunctions):\n",
    "    dfcp = df\n",
    "    maincolumn = functionsData[0]['aggregateOn'][0]['columnName']\n",
    "    mainagg = functionsData[0]['aggregateFunction']\n",
    "    addfuncs = additionalFunctions\n",
    "    for cols in dfcp.columns:\n",
    "        if cols not in addfuncs:\n",
    "            if cols != maincolumn:\n",
    "                addfuncs[cols] = mainagg\n",
    "    dfcp1 = dfcp.groupby(maincolumn).agg(addfuncs).drop(\n",
    "        maincolumn, axis=1).reset_index(drop=False)\n",
    "    return dfcp1\n",
    "\n",
    "\n",
    "def runDataCleansing(sparkDf, spark, config):\n",
    "    configObj = json.loads(config)\n",
    "    sparkDf.persist(pyspark.StorageLevel.MEMORY_AND_DISK)\n",
    "    df = from_pandas((sparkDf.toPandas()), npartitions=5)\n",
    "    functionList = configObj['functionsApplied']\n",
    "    Data_Cleansing_Methods = {\"replaceBy\": replaceValues,\n",
    "                              \"formula\": calculateFormula,\n",
    "                              \"aggregate\": aggregation,\n",
    "                              \"converttostringtype\": changeToString,\n",
    "                              \"editname\": renameColumns}\n",
    "    for function in functionList:\n",
    "        function['functionName']\n",
    "        df = Data_Cleansing_Methods[function['functionName']](df, function['functionsData'],\n",
    "                                                              function['applyOn'])\n",
    "    sparkDf = spark.createDataFrame(df.compute())\n",
    "\n",
    "    display(sparkDf.limit(2).toPandas())\n",
    "    return sparkDf\n"
   ]
  },
  {
   "cell_type": "markdown",
   "id": "215865cd",
   "metadata": {},
   "source": [
    "***CONNECTOR FUNCTIONS TO WRITE DATA.***"
   ]
  },
  {
   "cell_type": "code",
   "execution_count": null,
   "id": "07b29f15",
   "metadata": {},
   "outputs": [],
   "source": [
    "import datetime\n",
    "import requests\n",
    "import datetime\n",
    "import logging\n",
    "import warnings\n",
    "warnings.filterwarnings('ignore')\n",
    "logging.basicConfig(format='%(levelname)s:%(message)s', level=logging.INFO)\n",
    "\n",
    "\n",
    "class NumtraConnector:\n",
    "\n",
    "    def put(inStages, inStagesData, stageId, spark, config):\n",
    "        path = eval(config)['server_url']\n",
    "        baseType = eval(config)['baseType']\n",
    "        results_url = eval(config)['results_url']\n",
    "        server = eval(config)['server']\n",
    "        originalfile = eval(config)['orignalKey']\n",
    "        eval(config)['pathOnly']\n",
    "        filename = eval(config)['filename']\n",
    "        eval(config)['ser']\n",
    "        eval(config)['user']\n",
    "        eval(config)['password']\n",
    "        eval(config)['authSource']\n",
    "        eval(config)['user_id']\n",
    "        eval(config)['parent_id']\n",
    "        eval(config)['project_id']\n",
    "        time = str(int(datetime.datetime.now().timestamp()))\n",
    "\n",
    "        inStagesData[inStages[0]]\n",
    "\n",
    "        print(path)\n",
    "        print(baseType)\n",
    "        print(results_url)\n",
    "        print(server)\n",
    "        print(originalfile)\n",
    "        print(filename)\n",
    "\n",
    "        args = {\n",
    "            'url': path,\n",
    "            'baseType': baseType,\n",
    "            'originalfile': originalfile,\n",
    "            'filename': time + filename\n",
    "        }\n",
    "\n",
    "        response = requests.post(results_url, args)\n",
    "        return response\n"
   ]
  },
  {
   "cell_type": "markdown",
   "id": "511ac433",
   "metadata": {},
   "source": [
    "***READING DATAFRAME***"
   ]
  },
  {
   "cell_type": "code",
   "execution_count": null,
   "id": "dc22a5ec",
   "metadata": {},
   "outputs": [],
   "source": [
    "############## CREATE SPARK SESSION ############################ ENTER YOUR SPARK MASTER IP AND PORT TO CONNECT TO SERVER ################\n",
    "from pyspark.sql import SparkSession\n",
    "spark = SparkSession.builder.master('local[1]').getOrCreate()\n",
    "#%run telcochurndatapipelineHooks.ipynb\n",
    "try:\n",
    "\t#sourcePreExecutionHook()\n",
    "\n",
    "\ttelcocutomerchurntrain = HDFSConnector.fetch(spark, \"{'url': '/FileStore/platform/testdata/1695815396284_Telco_Customer_Churn_Train.csv', 'FilePath': '/Retail And Marketing/Telco Churn/Telco_Customer_Churn_Train.csv', 'delimiter': ',', 'file_type': 'Delimeted', 'filename': 'Telco_Customer_Churn_Train.csv', 'viewFileName': 'Telco_Customer_Churn_Train.csv', 'is_header': 'Use Header Line', 'baseType': 'hdfs', 'server_url': '/nexusMax/NexusMaxPlatform/uploads/platform/', 'results_url': 'http://dnm.bfirst.ai:44040/api/read/hdfs'}\")\n",
    "\n",
    "except Exception as ex: \n",
    "\tlogging.error(ex)\n",
    "#spark.stop()\n"
   ]
  },
  {
   "cell_type": "markdown",
   "id": "ffc384ce",
   "metadata": {},
   "source": [
    "***PERFORMING OPERATIONS***"
   ]
  },
  {
   "cell_type": "code",
   "execution_count": null,
   "id": "ace173a5",
   "metadata": {},
   "outputs": [],
   "source": [
    "#%run telcochurndatapipelineHooks.ipynb\n",
    "try:\n",
    "\t#operationPreExecutionHook()\n",
    "\n",
    "datapreparation = runDataCleansing(telcocutomerchurntrain,spark,json.dumps( {\"url\": \"/FileStore/platform/testdata/1695815396284_Telco_Customer_Churn_Train.csv\", \"source_attributes\": {}, \"DataPrepFile\": \"/FileStore/platform/testdata/1695815396284_Telco_Customer_Churn_Train.csv\", \"data_source\": \"platfiles\", \"startListenerOnly\": 1, \"dateColumnNames\": [], \"FilePath\": \"/FileStore/platform/extra/6514170729e1b0f5334a67211709207866/0part.csv\", \"requestRatio\": 14.0, \"totalRows\": 7043, \"BasicStats\": {\"missingValues\": 0.0, \"numberOfColumns\": 21, \"numberOfRows\": 2, \"duplicateRowCount\": 0, \"stats\": [{\"column\": \"gender\", \"alias\": \"gender\", \"generated\": 0, \"type\": \"String\", \"max\": \"Male\", \"min\": \"Female\", \"mean\": \"\", \"missing\": 0.0, \"stddev\": \"\", \"outliers\": [], \"validation\": []}, {\"column\": \"SeniorCitizen\", \"alias\": \"SeniorCitizen\", \"generated\": 0, \"type\": \"numeric\", \"max\": 1, \"min\": 1, \"mean\": 1.0, \"missing\": 0.0, \"stddev\": 0.0, \"outliers\": [], \"validation\": []}, {\"column\": \"Partner\", \"alias\": \"Partner\", \"generated\": 0, \"type\": \"String\", \"max\": \"No\", \"min\": \"No\", \"mean\": \"\", \"missing\": 0.0, \"stddev\": \"\", \"outliers\": [], \"validation\": []}, {\"column\": \"Dependents\", \"alias\": \"Dependents\", \"generated\": 0, \"type\": \"String\", \"max\": \"Yes\", \"min\": \"Yes\", \"mean\": \"\", \"missing\": 0.0, \"stddev\": \"\", \"outliers\": [], \"validation\": []}, {\"column\": \"OnlineSecurity\", \"alias\": \"OnlineSecurity\", \"generated\": 0, \"type\": \"numeric\", \"max\": 3555, \"min\": 3488, \"mean\": 3521.5, \"missing\": 0.0, \"stddev\": 47.38, \"outliers\": [], \"validation\": []}, {\"column\": \"customerID\", \"alias\": \"customerID\", \"generated\": 0, \"type\": \"numeric\", \"max\": 3555, \"min\": 3488, \"mean\": 3521.5, \"missing\": 0.0, \"stddev\": 47.38, \"outliers\": [], \"validation\": []}, {\"column\": \"tenure\", \"alias\": \"tenure\", \"generated\": 0, \"type\": \"numeric\", \"max\": 3555, \"min\": 3488, \"mean\": 3521.5, \"missing\": 0.0, \"stddev\": 47.38, \"outliers\": [], \"validation\": []}, {\"column\": \"PhoneService\", \"alias\": \"PhoneService\", \"generated\": 0, \"type\": \"numeric\", \"max\": 3555, \"min\": 3488, \"mean\": 3521.5, \"missing\": 0.0, \"stddev\": 47.38, \"outliers\": [], \"validation\": []}, {\"column\": \"MultipleLines\", \"alias\": \"MultipleLines\", \"generated\": 0, \"type\": \"numeric\", \"max\": 3555, \"min\": 3488, \"mean\": 3521.5, \"missing\": 0.0, \"stddev\": 47.38, \"outliers\": [], \"validation\": []}, {\"column\": \"InternetService\", \"alias\": \"InternetService\", \"generated\": 0, \"type\": \"numeric\", \"max\": 3555, \"min\": 3488, \"mean\": 3521.5, \"missing\": 0.0, \"stddev\": 47.38, \"outliers\": [], \"validation\": []}, {\"column\": \"OnlineBackup\", \"alias\": \"OnlineBackup\", \"generated\": 0, \"type\": \"numeric\", \"max\": 3555, \"min\": 3488, \"mean\": 3521.5, \"missing\": 0.0, \"stddev\": 47.38, \"outliers\": [], \"validation\": []}, {\"column\": \"DeviceProtection\", \"alias\": \"DeviceProtection\", \"generated\": 0, \"type\": \"numeric\", \"max\": 3555, \"min\": 3488, \"mean\": 3521.5, \"missing\": 0.0, \"stddev\": 47.38, \"outliers\": [], \"validation\": []}, {\"column\": \"TechSupport\", \"alias\": \"TechSupport\", \"generated\": 0, \"type\": \"numeric\", \"max\": 3555, \"min\": 3488, \"mean\": 3521.5, \"missing\": 0.0, \"stddev\": 47.38, \"outliers\": [], \"validation\": []}, {\"column\": \"StreamingTV\", \"alias\": \"StreamingTV\", \"generated\": 0, \"type\": \"numeric\", \"max\": 3555, \"min\": 3488, \"mean\": 3521.5, \"missing\": 0.0, \"stddev\": 47.38, \"outliers\": [], \"validation\": []}, {\"column\": \"StreamingMovies\", \"alias\": \"StreamingMovies\", \"generated\": 0, \"type\": \"numeric\", \"max\": 3555, \"min\": 3488, \"mean\": 3521.5, \"missing\": 0.0, \"stddev\": 47.38, \"outliers\": [], \"validation\": []}, {\"column\": \"Contract\", \"alias\": \"Contract\", \"generated\": 0, \"type\": \"numeric\", \"max\": 3555, \"min\": 3488, \"mean\": 3521.5, \"missing\": 0.0, \"stddev\": 47.38, \"outliers\": [], \"validation\": []}, {\"column\": \"PaperlessBilling\", \"alias\": \"PaperlessBilling\", \"generated\": 0, \"type\": \"numeric\", \"max\": 3555, \"min\": 3488, \"mean\": 3521.5, \"missing\": 0.0, \"stddev\": 47.38, \"outliers\": [], \"validation\": []}, {\"column\": \"PaymentMethod\", \"alias\": \"PaymentMethod\", \"generated\": 0, \"type\": \"numeric\", \"max\": 3555, \"min\": 3488, \"mean\": 3521.5, \"missing\": 0.0, \"stddev\": 47.38, \"outliers\": [], \"validation\": []}, {\"column\": \"MonthlyCharges\", \"alias\": \"MonthlyCharges\", \"generated\": 0, \"type\": \"numeric\", \"max\": 3555, \"min\": 3488, \"mean\": 3521.5, \"missing\": 0.0, \"stddev\": 47.38, \"outliers\": [], \"validation\": []}, {\"column\": \"TotalCharges\", \"alias\": \"TotalCharges\", \"generated\": 0, \"type\": \"numeric\", \"max\": 3549, \"min\": 3483, \"mean\": 3516.0, \"missing\": 0.0, \"stddev\": 46.67, \"outliers\": [], \"validation\": []}, {\"column\": \"Churn\", \"alias\": \"Churn\", \"generated\": 0, \"type\": \"numeric\", \"max\": 3555, \"min\": 3488, \"mean\": 3521.5, \"missing\": 0.0, \"stddev\": 47.38, \"outliers\": [], \"validation\": []}]}, \"predictionPowerScore\": [{\"Churn\": 1, \"Contract\": 0, \"Dependents\": 0, \"DeviceProtection\": 0, \"InternetService\": 0, \"MonthlyCharges\": 0, \"MultipleLines\": 0, \"OnlineBackup\": 0, \"OnlineSecurity\": 0, \"PaperlessBilling\": 0, \"Partner\": 0, \"PaymentMethod\": 0, \"PhoneService\": 0, \"SeniorCitizen\": 0, \"StreamingMovies\": 0, \"StreamingTV\": 0, \"TechSupport\": 0, \"TotalCharges\": 0, \"customerID\": 0, \"gender\": 0, \"tenure\": 0}, {\"Churn\": 0, \"Contract\": 1, \"Dependents\": 0, \"DeviceProtection\": 0, \"InternetService\": 0, \"MonthlyCharges\": 0, \"MultipleLines\": 0, \"OnlineBackup\": 0, \"OnlineSecurity\": 0, \"PaperlessBilling\": 0, \"Partner\": 0, \"PaymentMethod\": 0, \"PhoneService\": 0, \"SeniorCitizen\": 0, \"StreamingMovies\": 0, \"StreamingTV\": 0, \"TechSupport\": 0, \"TotalCharges\": 0, \"customerID\": 0, \"gender\": 0, \"tenure\": 0}, {\"Churn\": 0, \"Contract\": 0, \"Dependents\": 1, \"DeviceProtection\": 0, \"InternetService\": 0, \"MonthlyCharges\": 0, \"MultipleLines\": 0, \"OnlineBackup\": 0, \"OnlineSecurity\": 0, \"PaperlessBilling\": 0, \"Partner\": 0, \"PaymentMethod\": 0, \"PhoneService\": 0, \"SeniorCitizen\": 0, \"StreamingMovies\": 0, \"StreamingTV\": 0, \"TechSupport\": 0, \"TotalCharges\": 0, \"customerID\": 0, \"gender\": 0, \"tenure\": 0}, {\"Churn\": 0, \"Contract\": 0, \"Dependents\": 0, \"DeviceProtection\": 1, \"InternetService\": 0, \"MonthlyCharges\": 0, \"MultipleLines\": 0, \"OnlineBackup\": 0, \"OnlineSecurity\": 0, \"PaperlessBilling\": 0, \"Partner\": 0, \"PaymentMethod\": 0, \"PhoneService\": 0, \"SeniorCitizen\": 0, \"StreamingMovies\": 0, \"StreamingTV\": 0, \"TechSupport\": 0, \"TotalCharges\": 0, \"customerID\": 0, \"gender\": 0, \"tenure\": 0}, {\"Churn\": 0, \"Contract\": 0, \"Dependents\": 0, \"DeviceProtection\": 0, \"InternetService\": 1, \"MonthlyCharges\": 0, \"MultipleLines\": 0, \"OnlineBackup\": 0, \"OnlineSecurity\": 0, \"PaperlessBilling\": 0, \"Partner\": 0, \"PaymentMethod\": 0, \"PhoneService\": 0, \"SeniorCitizen\": 0, \"StreamingMovies\": 0, \"StreamingTV\": 0, \"TechSupport\": 0, \"TotalCharges\": 0, \"customerID\": 0, \"gender\": 0, \"tenure\": 0}, {\"Churn\": 0, \"Contract\": 0, \"Dependents\": 0, \"DeviceProtection\": 0, \"InternetService\": 0, \"MonthlyCharges\": 1, \"MultipleLines\": 0, \"OnlineBackup\": 0, \"OnlineSecurity\": 0, \"PaperlessBilling\": 0, \"Partner\": 0, \"PaymentMethod\": 0, \"PhoneService\": 0, \"SeniorCitizen\": 0, \"StreamingMovies\": 0, \"StreamingTV\": 0, \"TechSupport\": 0, \"TotalCharges\": 0, \"customerID\": 0, \"gender\": 0, \"tenure\": 0}, {\"Churn\": 0, \"Contract\": 0, \"Dependents\": 0, \"DeviceProtection\": 0, \"InternetService\": 0, \"MonthlyCharges\": 0, \"MultipleLines\": 1, \"OnlineBackup\": 0, \"OnlineSecurity\": 0, \"PaperlessBilling\": 0, \"Partner\": 0, \"PaymentMethod\": 0, \"PhoneService\": 0, \"SeniorCitizen\": 0, \"StreamingMovies\": 0, \"StreamingTV\": 0, \"TechSupport\": 0, \"TotalCharges\": 0, \"customerID\": 0, \"gender\": 0, \"tenure\": 0}, {\"Churn\": 0, \"Contract\": 0, \"Dependents\": 0, \"DeviceProtection\": 0, \"InternetService\": 0, \"MonthlyCharges\": 0, \"MultipleLines\": 0, \"OnlineBackup\": 1, \"OnlineSecurity\": 0, \"PaperlessBilling\": 0, \"Partner\": 0, \"PaymentMethod\": 0, \"PhoneService\": 0, \"SeniorCitizen\": 0, \"StreamingMovies\": 0, \"StreamingTV\": 0, \"TechSupport\": 0, \"TotalCharges\": 0, \"customerID\": 0, \"gender\": 0, \"tenure\": 0}, {\"Churn\": 0, \"Contract\": 0, \"Dependents\": 0, \"DeviceProtection\": 0, \"InternetService\": 0, \"MonthlyCharges\": 0, \"MultipleLines\": 0, \"OnlineBackup\": 0, \"OnlineSecurity\": 1, \"PaperlessBilling\": 0, \"Partner\": 0, \"PaymentMethod\": 0, \"PhoneService\": 0, \"SeniorCitizen\": 0, \"StreamingMovies\": 0, \"StreamingTV\": 0, \"TechSupport\": 0, \"TotalCharges\": 0, \"customerID\": 0, \"gender\": 0, \"tenure\": 0}, {\"Churn\": 0, \"Contract\": 0, \"Dependents\": 0, \"DeviceProtection\": 0, \"InternetService\": 0, \"MonthlyCharges\": 0, \"MultipleLines\": 0, \"OnlineBackup\": 0, \"OnlineSecurity\": 0, \"PaperlessBilling\": 1, \"Partner\": 0, \"PaymentMethod\": 0, \"PhoneService\": 0, \"SeniorCitizen\": 0, \"StreamingMovies\": 0, \"StreamingTV\": 0, \"TechSupport\": 0, \"TotalCharges\": 0, \"customerID\": 0, \"gender\": 0, \"tenure\": 0}, {\"Churn\": 0, \"Contract\": 0, \"Dependents\": 0, \"DeviceProtection\": 0, \"InternetService\": 0, \"MonthlyCharges\": 0, \"MultipleLines\": 0, \"OnlineBackup\": 0, \"OnlineSecurity\": 0, \"PaperlessBilling\": 0, \"Partner\": 1, \"PaymentMethod\": 0, \"PhoneService\": 0, \"SeniorCitizen\": 0, \"StreamingMovies\": 0, \"StreamingTV\": 0, \"TechSupport\": 0, \"TotalCharges\": 0, \"customerID\": 0, \"gender\": 0, \"tenure\": 0}, {\"Churn\": 0, \"Contract\": 0, \"Dependents\": 0, \"DeviceProtection\": 0, \"InternetService\": 0, \"MonthlyCharges\": 0, \"MultipleLines\": 0, \"OnlineBackup\": 0, \"OnlineSecurity\": 0, \"PaperlessBilling\": 0, \"Partner\": 0, \"PaymentMethod\": 1, \"PhoneService\": 0, \"SeniorCitizen\": 0, \"StreamingMovies\": 0, \"StreamingTV\": 0, \"TechSupport\": 0, \"TotalCharges\": 0, \"customerID\": 0, \"gender\": 0, \"tenure\": 0}, {\"Churn\": 0, \"Contract\": 0, \"Dependents\": 0, \"DeviceProtection\": 0, \"InternetService\": 0, \"MonthlyCharges\": 0, \"MultipleLines\": 0, \"OnlineBackup\": 0, \"OnlineSecurity\": 0, \"PaperlessBilling\": 0, \"Partner\": 0, \"PaymentMethod\": 0, \"PhoneService\": 1, \"SeniorCitizen\": 0, \"StreamingMovies\": 0, \"StreamingTV\": 0, \"TechSupport\": 0, \"TotalCharges\": 0, \"customerID\": 0, \"gender\": 0, \"tenure\": 0}, {\"Churn\": 0, \"Contract\": 0, \"Dependents\": 0, \"DeviceProtection\": 0, \"InternetService\": 0, \"MonthlyCharges\": 0, \"MultipleLines\": 0, \"OnlineBackup\": 0, \"OnlineSecurity\": 0, \"PaperlessBilling\": 0, \"Partner\": 0, \"PaymentMethod\": 0, \"PhoneService\": 0, \"SeniorCitizen\": 1, \"StreamingMovies\": 0, \"StreamingTV\": 0, \"TechSupport\": 0, \"TotalCharges\": 0, \"customerID\": 0, \"gender\": 0, \"tenure\": 0}, {\"Churn\": 0, \"Contract\": 0, \"Dependents\": 0, \"DeviceProtection\": 0, \"InternetService\": 0, \"MonthlyCharges\": 0, \"MultipleLines\": 0, \"OnlineBackup\": 0, \"OnlineSecurity\": 0, \"PaperlessBilling\": 0, \"Partner\": 0, \"PaymentMethod\": 0, \"PhoneService\": 0, \"SeniorCitizen\": 0, \"StreamingMovies\": 1, \"StreamingTV\": 0, \"TechSupport\": 0, \"TotalCharges\": 0, \"customerID\": 0, \"gender\": 0, \"tenure\": 0}, {\"Churn\": 0, \"Contract\": 0, \"Dependents\": 0, \"DeviceProtection\": 0, \"InternetService\": 0, \"MonthlyCharges\": 0, \"MultipleLines\": 0, \"OnlineBackup\": 0, \"OnlineSecurity\": 0, \"PaperlessBilling\": 0, \"Partner\": 0, \"PaymentMethod\": 0, \"PhoneService\": 0, \"SeniorCitizen\": 0, \"StreamingMovies\": 0, \"StreamingTV\": 1, \"TechSupport\": 0, \"TotalCharges\": 0, \"customerID\": 0, \"gender\": 0, \"tenure\": 0}, {\"Churn\": 0, \"Contract\": 0, \"Dependents\": 0, \"DeviceProtection\": 0, \"InternetService\": 0, \"MonthlyCharges\": 0, \"MultipleLines\": 0, \"OnlineBackup\": 0, \"OnlineSecurity\": 0, \"PaperlessBilling\": 0, \"Partner\": 0, \"PaymentMethod\": 0, \"PhoneService\": 0, \"SeniorCitizen\": 0, \"StreamingMovies\": 0, \"StreamingTV\": 0, \"TechSupport\": 1, \"TotalCharges\": 0, \"customerID\": 0, \"gender\": 0, \"tenure\": 0}, {\"Churn\": 0, \"Contract\": 0, \"Dependents\": 0, \"DeviceProtection\": 0, \"InternetService\": 0, \"MonthlyCharges\": 0, \"MultipleLines\": 0, \"OnlineBackup\": 0, \"OnlineSecurity\": 0, \"PaperlessBilling\": 0, \"Partner\": 0, \"PaymentMethod\": 0, \"PhoneService\": 0, \"SeniorCitizen\": 0, \"StreamingMovies\": 0, \"StreamingTV\": 0, \"TechSupport\": 0, \"TotalCharges\": 1, \"customerID\": 0, \"gender\": 0, \"tenure\": 0}, {\"Churn\": 0, \"Contract\": 0, \"Dependents\": 0, \"DeviceProtection\": 0, \"InternetService\": 0, \"MonthlyCharges\": 0, \"MultipleLines\": 0, \"OnlineBackup\": 0, \"OnlineSecurity\": 0, \"PaperlessBilling\": 0, \"Partner\": 0, \"PaymentMethod\": 0, \"PhoneService\": 0, \"SeniorCitizen\": 0, \"StreamingMovies\": 0, \"StreamingTV\": 0, \"TechSupport\": 0, \"TotalCharges\": 0, \"customerID\": 1, \"gender\": 0, \"tenure\": 0}, {\"Churn\": 0, \"Contract\": 0, \"Dependents\": 0, \"DeviceProtection\": 0, \"InternetService\": 0, \"MonthlyCharges\": 0, \"MultipleLines\": 0, \"OnlineBackup\": 0, \"OnlineSecurity\": 0, \"PaperlessBilling\": 0, \"Partner\": 0, \"PaymentMethod\": 0, \"PhoneService\": 0, \"SeniorCitizen\": 0, \"StreamingMovies\": 0, \"StreamingTV\": 0, \"TechSupport\": 0, \"TotalCharges\": 0, \"customerID\": 0, \"gender\": 1, \"tenure\": 0}, {\"Churn\": 0, \"Contract\": 0, \"Dependents\": 0, \"DeviceProtection\": 0, \"InternetService\": 0, \"MonthlyCharges\": 0, \"MultipleLines\": 0, \"OnlineBackup\": 0, \"OnlineSecurity\": 0, \"PaperlessBilling\": 0, \"Partner\": 0, \"PaymentMethod\": 0, \"PhoneService\": 0, \"SeniorCitizen\": 0, \"StreamingMovies\": 0, \"StreamingTV\": 0, \"TechSupport\": 0, \"TotalCharges\": 0, \"customerID\": 0, \"gender\": 0, \"tenure\": 1}], \"HasBasicStats\": 1, \"functionsApplied\": [{\"functionName\": \"aggregate\", \"applyOn\": [{\"columnName\": \"gender\", \"type\": \"String\", \"min\": \"Female\", \"max\": \"Male\", \"mean\": \"-\"}], \"functionsData\": [{\"aggregateFunction\": \"count\", \"aggregateOn\": [{\"columnName\": \"gender\", \"type\": \"String\", \"min\": \"Female\", \"max\": \"Male\", \"mean\": \"-\"}], \"groupOn\": [{\"columnName\": \"gender\", \"type\": \"String\", \"min\": \"Female\", \"max\": \"Male\", \"mean\": \"-\"}]}], \"additionalFunctions\": {\"SeniorCitizen\": \"max\", \"Partner\": \"min\", \"Dependents\": \"max\", \"OnlineSecurity\": \"count\", \"customerID\": \"count\", \"tenure\": \"count\", \"PhoneService\": \"count\", \"MultipleLines\": \"count\", \"InternetService\": \"count\", \"OnlineBackup\": \"count\", \"DeviceProtection\": \"count\", \"TechSupport\": \"count\", \"StreamingTV\": \"count\", \"StreamingMovies\": \"count\", \"Contract\": \"count\", \"PaperlessBilling\": \"count\", \"PaymentMethod\": \"count\", \"MonthlyCharges\": \"count\", \"TotalCharges\": \"count\", \"Churn\": \"count\"}}], \"functionChanges\": [{\"columnName\": \"gender\", \"functionName\": \"Aggregate\", \"Type\": \"String\", \"Parameters\": [{\"aggregateFunction\": \"count\", \"aggregateOn\": [{\"columnName\": \"gender\", \"type\": \"String\", \"min\": \"Female\", \"max\": \"Male\", \"mean\": \"-\"}], \"groupOn\": [{\"columnName\": \"gender\", \"type\": \"String\", \"min\": \"Female\", \"max\": \"Male\", \"mean\": \"-\"}]}]}], \"fileheader\": [{\"field\": \"gender\", \"alias\": \"gender\", \"generated\": 0, \"position\": 1, \"type\": \"String\"}, {\"field\": \"SeniorCitizen\", \"alias\": \"SeniorCitizen\", \"generated\": 0, \"position\": 2, \"type\": \"numeric\"}, {\"field\": \"Partner\", \"alias\": \"Partner\", \"generated\": 0, \"position\": 3, \"type\": \"String\"}, {\"field\": \"Dependents\", \"alias\": \"Dependents\", \"generated\": 0, \"position\": 4, \"type\": \"String\"}, {\"field\": \"OnlineSecurity\", \"alias\": \"OnlineSecurity\", \"generated\": 0, \"position\": 5, \"type\": \"numeric\"}, {\"field\": \"customerID\", \"alias\": \"customerID\", \"generated\": 0, \"position\": 6, \"type\": \"numeric\"}, {\"field\": \"tenure\", \"alias\": \"tenure\", \"generated\": 0, \"position\": 7, \"type\": \"numeric\"}, {\"field\": \"PhoneService\", \"alias\": \"PhoneService\", \"generated\": 0, \"position\": 8, \"type\": \"numeric\"}, {\"field\": \"MultipleLines\", \"alias\": \"MultipleLines\", \"generated\": 0, \"position\": 9, \"type\": \"numeric\"}, {\"field\": \"InternetService\", \"alias\": \"InternetService\", \"generated\": 0, \"position\": 10, \"type\": \"numeric\"}, {\"field\": \"OnlineBackup\", \"alias\": \"OnlineBackup\", \"generated\": 0, \"position\": 11, \"type\": \"numeric\"}, {\"field\": \"DeviceProtection\", \"alias\": \"DeviceProtection\", \"generated\": 0, \"position\": 12, \"type\": \"numeric\"}, {\"field\": \"TechSupport\", \"alias\": \"TechSupport\", \"generated\": 0, \"position\": 13, \"type\": \"numeric\"}, {\"field\": \"StreamingTV\", \"alias\": \"StreamingTV\", \"generated\": 0, \"position\": 14, \"type\": \"numeric\"}, {\"field\": \"StreamingMovies\", \"alias\": \"StreamingMovies\", \"generated\": 0, \"position\": 15, \"type\": \"numeric\"}, {\"field\": \"Contract\", \"alias\": \"Contract\", \"generated\": 0, \"position\": 16, \"type\": \"numeric\"}, {\"field\": \"PaperlessBilling\", \"alias\": \"PaperlessBilling\", \"generated\": 0, \"position\": 17, \"type\": \"numeric\"}, {\"field\": \"PaymentMethod\", \"alias\": \"PaymentMethod\", \"generated\": 0, \"position\": 18, \"type\": \"numeric\"}, {\"field\": \"MonthlyCharges\", \"alias\": \"MonthlyCharges\", \"generated\": 0, \"position\": 19, \"type\": \"numeric\"}, {\"field\": \"TotalCharges\", \"alias\": \"TotalCharges\", \"generated\": 0, \"position\": 20, \"type\": \"numeric\"}, {\"field\": \"Churn\", \"alias\": \"Churn\", \"generated\": 0, \"position\": 21, \"type\": \"numeric\"}]}))\n",
    "\t#operationPostExecutionHook(datapreparation)\n",
    "\n",
    "except Exception as ex: \n",
    "\tlogging.error(ex)\n"
   ]
  },
  {
   "cell_type": "markdown",
   "id": "f4d74191",
   "metadata": {},
   "source": [
    "***WRITING DATAFRAME***"
   ]
  },
  {
   "cell_type": "code",
   "execution_count": null,
   "id": "679d51a1",
   "metadata": {},
   "outputs": [],
   "source": [
    "#%run telcochurndatapipelineHooks.ipynb\n",
    "try:\n",
    "\t#sinkPreExecutionHook()\n",
    "\n",
    "\ttelcochurnoutput = NumtraConnector.fetch(spark, \"{'samplefile': '/FileStore/platform/sampleData/651416ff29e1b0f5334a671d/part-00000-46da0657-23c4-468a-9338-cffb21c62ee7-c000.csv', 'samplecount': 731, 'originalcount': 7043, 'orignalKey': '/FileStore/platform/testdata/1695815396284_Telco_Customer_Churn_Train.csv', 'pathOnly': '/Retail And Marketing/Telco Churn', 'project_id': '6514163229e1b0f5334a66ed', 'parent_id': '6514163229e1b0f5334a66ed', 'original_schema': [{'checked': True, 'inherited': True, 'is_categorical': False, 'bad_values': '', 'nullable': 'true', 'field': 'gender', 'alias': 'gender', 'type': 'String', 'position': '0'}, {'checked': True, 'inherited': True, 'is_categorical': False, 'bad_values': '', 'nullable': 'true', 'field': 'SeniorCitizen', 'alias': 'SeniorCitizen', 'type': 'numeric', 'position': '1'}, {'checked': True, 'inherited': True, 'is_categorical': False, 'bad_values': '', 'nullable': 'true', 'field': 'Partner', 'alias': 'Partner', 'type': 'String', 'position': '2'}, {'checked': True, 'inherited': True, 'is_categorical': False, 'bad_values': '', 'nullable': 'true', 'field': 'Dependents', 'alias': 'Dependents', 'type': 'String', 'position': '3'}, {'checked': True, 'inherited': True, 'is_categorical': False, 'bad_values': '', 'nullable': 'true', 'field': 'OnlineSecurity', 'alias': 'OnlineSecurity', 'type': 'numeric', 'position': '4'}, {'checked': True, 'inherited': True, 'is_categorical': False, 'bad_values': '', 'nullable': 'true', 'field': 'customerID', 'alias': 'customerID', 'type': 'numeric', 'position': '5'}, {'checked': True, 'inherited': True, 'is_categorical': False, 'bad_values': '', 'nullable': 'true', 'field': 'tenure', 'alias': 'tenure', 'type': 'numeric', 'position': '6'}, {'checked': True, 'inherited': True, 'is_categorical': False, 'bad_values': '', 'nullable': 'true', 'field': 'PhoneService', 'alias': 'PhoneService', 'type': 'numeric', 'position': '7'}, {'checked': True, 'inherited': True, 'is_categorical': False, 'bad_values': '', 'nullable': 'true', 'field': 'MultipleLines', 'alias': 'MultipleLines', 'type': 'numeric', 'position': '8'}, {'checked': True, 'inherited': True, 'is_categorical': False, 'bad_values': '', 'nullable': 'true', 'field': 'InternetService', 'alias': 'InternetService', 'type': 'numeric', 'position': '9'}, {'checked': True, 'inherited': True, 'is_categorical': False, 'bad_values': '', 'nullable': 'true', 'field': 'OnlineBackup', 'alias': 'OnlineBackup', 'type': 'numeric', 'position': '10'}, {'checked': True, 'inherited': True, 'is_categorical': False, 'bad_values': '', 'nullable': 'true', 'field': 'DeviceProtection', 'alias': 'DeviceProtection', 'type': 'numeric', 'position': '11'}, {'checked': True, 'inherited': True, 'is_categorical': False, 'bad_values': '', 'nullable': 'true', 'field': 'TechSupport', 'alias': 'TechSupport', 'type': 'numeric', 'position': '12'}, {'checked': True, 'inherited': True, 'is_categorical': False, 'bad_values': '', 'nullable': 'true', 'field': 'StreamingTV', 'alias': 'StreamingTV', 'type': 'numeric', 'position': '13'}, {'checked': True, 'inherited': True, 'is_categorical': False, 'bad_values': '', 'nullable': 'true', 'field': 'StreamingMovies', 'alias': 'StreamingMovies', 'type': 'numeric', 'position': '14'}, {'checked': True, 'inherited': True, 'is_categorical': False, 'bad_values': '', 'nullable': 'true', 'field': 'Contract', 'alias': 'Contract', 'type': 'numeric', 'position': '15'}, {'checked': True, 'inherited': True, 'is_categorical': False, 'bad_values': '', 'nullable': 'true', 'field': 'PaperlessBilling', 'alias': 'PaperlessBilling', 'type': 'numeric', 'position': '16'}, {'checked': True, 'inherited': True, 'is_categorical': False, 'bad_values': '', 'nullable': 'true', 'field': 'PaymentMethod', 'alias': 'PaymentMethod', 'type': 'numeric', 'position': '17'}, {'checked': True, 'inherited': True, 'is_categorical': False, 'bad_values': '', 'nullable': 'true', 'field': 'MonthlyCharges', 'alias': 'MonthlyCharges', 'type': 'numeric', 'position': '18'}, {'checked': True, 'inherited': True, 'is_categorical': False, 'bad_values': '', 'nullable': 'true', 'field': 'TotalCharges', 'alias': 'TotalCharges', 'type': 'numeric', 'position': '19'}, {'checked': True, 'inherited': True, 'is_categorical': False, 'bad_values': '', 'nullable': 'true', 'field': 'Churn', 'alias': 'Churn', 'type': 'numeric', 'position': '20'}], 'actual_schema': [{'checked': True, 'inherited': True, 'is_categorical': False, 'bad_values': '', 'nullable': 'true', '_id': '65e06e2206d0df59e9be4cd5', 'field': 'customerID', 'alias': 'customerID', 'type': 'String', 'position': '0'}, {'checked': True, 'inherited': True, 'is_categorical': False, 'bad_values': '', 'nullable': 'true', '_id': '65e06e2206d0df59e9be4cd6', 'field': 'gender', 'alias': 'gender', 'type': 'String', 'position': '1'}, {'checked': True, 'inherited': True, 'is_categorical': False, 'bad_values': '', 'nullable': 'true', '_id': '65e06e2206d0df59e9be4cd7', 'field': 'SeniorCitizen', 'alias': 'SeniorCitizen', 'type': 'numeric', 'position': '2'}, {'checked': True, 'inherited': True, 'is_categorical': False, 'bad_values': '', 'nullable': 'true', '_id': '65e06e2206d0df59e9be4cd8', 'field': 'Partner', 'alias': 'Partner', 'type': 'String', 'position': '3'}, {'checked': True, 'inherited': True, 'is_categorical': False, 'bad_values': '', 'nullable': 'true', '_id': '65e06e2206d0df59e9be4cd9', 'field': 'Dependents', 'alias': 'Dependents', 'type': 'String', 'position': '4'}, {'checked': True, 'inherited': True, 'is_categorical': False, 'bad_values': '', 'nullable': 'true', '_id': '65e06e2206d0df59e9be4cda', 'field': 'tenure', 'alias': 'tenure', 'type': 'numeric', 'position': '5'}, {'checked': True, 'inherited': True, 'is_categorical': False, 'bad_values': '', 'nullable': 'true', '_id': '65e06e2206d0df59e9be4cdb', 'field': 'PhoneService', 'alias': 'PhoneService', 'type': 'String', 'position': '6'}, {'checked': True, 'inherited': True, 'is_categorical': False, 'bad_values': '', 'nullable': 'true', '_id': '65e06e2206d0df59e9be4cdc', 'field': 'MultipleLines', 'alias': 'MultipleLines', 'type': 'String', 'position': '7'}, {'checked': True, 'inherited': True, 'is_categorical': False, 'bad_values': '', 'nullable': 'true', '_id': '65e06e2206d0df59e9be4cdd', 'field': 'InternetService', 'alias': 'InternetService', 'type': 'String', 'position': '8'}, {'checked': True, 'inherited': True, 'is_categorical': False, 'bad_values': '', 'nullable': 'true', '_id': '65e06e2206d0df59e9be4cde', 'field': 'OnlineSecurity', 'alias': 'OnlineSecurity', 'type': 'String', 'position': '9'}, {'checked': True, 'inherited': True, 'is_categorical': False, 'bad_values': '', 'nullable': 'true', '_id': '65e06e2206d0df59e9be4cdf', 'field': 'OnlineBackup', 'alias': 'OnlineBackup', 'type': 'String', 'position': '10'}, {'checked': True, 'inherited': True, 'is_categorical': False, 'bad_values': '', 'nullable': 'true', '_id': '65e06e2206d0df59e9be4ce0', 'field': 'DeviceProtection', 'alias': 'DeviceProtection', 'type': 'String', 'position': '11'}, {'checked': True, 'inherited': True, 'is_categorical': False, 'bad_values': '', 'nullable': 'true', '_id': '65e06e2206d0df59e9be4ce1', 'field': 'TechSupport', 'alias': 'TechSupport', 'type': 'String', 'position': '12'}, {'checked': True, 'inherited': True, 'is_categorical': False, 'bad_values': '', 'nullable': 'true', '_id': '65e06e2206d0df59e9be4ce2', 'field': 'StreamingTV', 'alias': 'StreamingTV', 'type': 'String', 'position': '13'}, {'checked': True, 'inherited': True, 'is_categorical': False, 'bad_values': '', 'nullable': 'true', '_id': '65e06e2206d0df59e9be4ce3', 'field': 'StreamingMovies', 'alias': 'StreamingMovies', 'type': 'String', 'position': '14'}, {'checked': True, 'inherited': True, 'is_categorical': False, 'bad_values': '', 'nullable': 'true', '_id': '65e06e2206d0df59e9be4ce4', 'field': 'Contract', 'alias': 'Contract', 'type': 'String', 'position': '15'}, {'checked': True, 'inherited': True, 'is_categorical': False, 'bad_values': '', 'nullable': 'true', '_id': '65e06e2206d0df59e9be4ce5', 'field': 'PaperlessBilling', 'alias': 'PaperlessBilling', 'type': 'String', 'position': '16'}, {'checked': True, 'inherited': True, 'is_categorical': False, 'bad_values': '', 'nullable': 'true', '_id': '65e06e2206d0df59e9be4ce6', 'field': 'PaymentMethod', 'alias': 'PaymentMethod', 'type': 'String', 'position': '17'}, {'checked': True, 'inherited': True, 'is_categorical': False, 'bad_values': '', 'nullable': 'true', '_id': '65e06e2206d0df59e9be4ce7', 'field': 'MonthlyCharges', 'alias': 'MonthlyCharges', 'type': 'real', 'position': '18'}, {'checked': True, 'inherited': True, 'is_categorical': False, 'bad_values': '', 'nullable': 'true', '_id': '65e06e2206d0df59e9be4ce8', 'field': 'TotalCharges', 'alias': 'TotalCharges', 'type': 'real', 'position': '19'}, {'checked': True, 'inherited': True, 'is_categorical': False, 'bad_values': '', 'nullable': 'true', '_id': '65e06e2206d0df59e9be4ce9', 'field': 'Churn', 'alias': 'Churn', 'type': 'String', 'position': '20'}], 'server': 'https://dnm.bfirst.ai:443', 'server_url': '/nexusMax/NexusMaxPlatform/uploads/platform/', 'delimiter': ',', 'file_type': 'Delimeted', 'filename': 'TelcoChurnAgg.csv', 'token': '', 'domain': '', 'is_header': 'Use Header Line', 'url': '/FileStore/platform/uploadedSourceFiles/part-00000-1b13f44a-1411-44e7-bd36-407a45e07396-c000.csv', 'results_url': 'http://dnm.bfirst.ai:44040/api/read/hdfs'}\")\n",
    "\n",
    "except Exception as ex: \n",
    "\tlogging.error(ex)\n"
   ]
  }
 ],
 "metadata": {},
 "nbformat": 4,
 "nbformat_minor": 5
}
